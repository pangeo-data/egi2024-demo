{
 "cells": [
  {
   "cell_type": "markdown",
   "id": "b9040855-bb5e-41f2-92f1-09d0f47dd1ae",
   "metadata": {},
   "source": [
    "# YAXArrays and mapCube in Julia\n",
    "\n",
    "<img src=\"https://upload.wikimedia.org/wikipedia/commons/1/1f/Julia_Programming_Language_Logo.svg\" align=\"center\" width=\"20%\">\n",
    "\n",
    "In this lesson, we discuss cover the basics of YAXArray data structures and mapCube in Julia. \n",
    "\n",
    "## Authors & Contributors\n",
    "\n",
    "### Notebook\n",
    "- Felix Cremer, Max Planck Institute for Biogeochemistry (Germany), [@felixcremer](https://github.com/felixcremer)\n",
    "\n",
    "### Contributors\n",
    "- Anne Fouilloux, Simula (Norway), [@annefou](https://github.com/annefou)\n",
    "\n",
    "\n",
    "This tutorial is based on the Jupyter notebook [General introduction to YAXArrays.jl and mapCube](https://github.com/JuliaDataCubes/datacubes_in_julia_workshop/blob/main/intro_YAXArrays.ipynb) from [Geospatial data cubes in Julia workshop](https://juliadatacubes.github.io/datacubes_in_julia_workshop/).\n",
    "\n",
    "\n",
    "<div class=\"alert alert-info\">\n",
    "<i class=\"fa-question-circle fa\" style=\"font-size: 22px;color:#666;\"></i> Overview\n",
    "    <br>\n",
    "    <br>\n",
    "    <b>Questions</b>\n",
    "    <ul>\n",
    "        <li>What is YXArrays.jl?</li>\n",
    "        <li>What is mapCube and what can I used it for?</li>\n",
    "        <li>How can I read and manipulate a Zarr dataset in Julia?</li>\n",
    "        <li>How can apply a function to my entire or a portion of my dataset?</li>\n",
    "        <li>How can I use Python or R in Julia?</li>\n",
    "    </ul>\n",
    "    <b>Objectives</b>\n",
    "    <ul>\n",
    "        <li>Understand YXArrays.jl and mapCube in Julia</li>\n",
    "        <li>Read and write Zarr datasets</li>\n",
    "        <li>Apply a simple or rather complex function to perform complex data analysis</li>\n",
    "    </ul>\n",
    "</div>"
   ]
  },
  {
   "cell_type": "code",
   "execution_count": null,
   "id": "05d898d0",
   "metadata": {
    "scrolled": true,
    "slideshow": {
     "slide_type": "skip"
    },
    "tags": [
     "hide-output"
    ]
   },
   "outputs": [],
   "source": [
    "using Pkg\n",
    "Pkg.activate(\".\")\n",
    "Pkg.instantiate()"
   ]
  },
  {
   "cell_type": "markdown",
   "id": "2a6a6b72-9431-4736-acf7-afe89440656d",
   "metadata": {},
   "source": [
    "## Accessing remote data stored on the cloud with YXArrays\n",
    "- Be aware that opening a dataset with YXArrays does not load the entire dataset in memory;\n",
    "- Only metadata set is read and available;\n",
    "- As for Xarray in Python, YXArrays in Julia will load data only when needed (e.g. accessed)."
   ]
  },
  {
   "cell_type": "code",
   "execution_count": null,
   "id": "1ea8436a-afda-4014-8aeb-f32a803987c7",
   "metadata": {},
   "outputs": [],
   "source": [
    "using YAXArrays\n",
    "using Zarr\n",
    "era5url = \"https://s3.bgc-jena.mpg.de:9000/deepextremes/v3/ERA5Cube.zarr\"\n",
    "ds = open_dataset(era5url)"
   ]
  },
  {
   "cell_type": "markdown",
   "id": "b8a5d7f1-2d62-4e37-af18-51a3d4dd741e",
   "metadata": {},
   "source": [
    "## select a subset of the global remote dataset"
   ]
  },
  {
   "cell_type": "code",
   "execution_count": null,
   "id": "cc9b6b98-de2e-476b-9d4e-e09cdcbc812c",
   "metadata": {},
   "outputs": [],
   "source": [
    "sub = ds[Ti=DateTime(1998,1,1)..DateTime(2022,12,31), longitude=0..14.76,latitude=30.1..60]"
   ]
  },
  {
   "cell_type": "markdown",
   "id": "b6f76709-1da2-4e1c-bfc4-eb217f861621",
   "metadata": {},
   "source": [
    "## Create local Zarr for tutorial"
   ]
  },
  {
   "cell_type": "code",
   "execution_count": null,
   "id": "8629f36d-dc0c-47ab-8fb4-fcc03d4e9b8a",
   "metadata": {},
   "outputs": [],
   "source": [
    "savedataset(sub,path=\"./era5.zarr\", overwrite=true)"
   ]
  },
  {
   "cell_type": "markdown",
   "id": "3f762134",
   "metadata": {
    "slideshow": {
     "slide_type": "slide"
    }
   },
   "source": [
    "## Let's dig into YAXArrays.jl and mapCube"
   ]
  },
  {
   "cell_type": "markdown",
   "id": "c24aee6d",
   "metadata": {
    "slideshow": {
     "slide_type": "notes"
    }
   },
   "source": [
    "So far we have only used `mapslices` in this tutorial. However, this can only cover very simple cases for a single input cube and computations on one or dimensions which either collapse or return the same dimension. "
   ]
  },
  {
   "cell_type": "code",
   "execution_count": null,
   "id": "13a19c65",
   "metadata": {
    "slideshow": {
     "slide_type": "subslide"
    },
    "tags": [
     "hide-output"
    ]
   },
   "outputs": [],
   "source": [
    "using DimensionalData, YAXArrays, Zarr, NetCDF\n",
    "using WGLMakie"
   ]
  },
  {
   "cell_type": "code",
   "execution_count": null,
   "id": "5c00fc06",
   "metadata": {
    "slideshow": {
     "slide_type": "subslide"
    }
   },
   "outputs": [],
   "source": [
    "path = \"./era5.zarr\"\n",
    "c = Cube(open_dataset(zopen(path,consolidated=true,fill_as_missing=false)))"
   ]
  },
  {
   "cell_type": "code",
   "execution_count": null,
   "id": "49a4119b",
   "metadata": {},
   "outputs": [],
   "source": [
    "c[latitude=Near(11)]"
   ]
  },
  {
   "cell_type": "markdown",
   "id": "b305dd51",
   "metadata": {
    "slideshow": {
     "slide_type": "slide"
    }
   },
   "source": [
    "## The `mapCube` function"
   ]
  },
  {
   "cell_type": "markdown",
   "id": "70cf062a",
   "metadata": {
    "slideshow": {
     "slide_type": "notes"
    }
   },
   "source": [
    "is a generalization of mapslices, where you can annotate the exact signature of the function to be applied. For example the computation of the `median` over time can be written using `mapCube`. \n",
    "Here one hase to specify the dimension(s) that the user-defined function is going to operate on. For the computation of the median over time the only input dimension is `time` and there are no output dimensions as only a single value is returned. The user defined function passed to `mapCube` always has the signature `f(outputs..., inputs...)` and potentially followd by additional arguments and keyword args. "
   ]
  },
  {
   "cell_type": "markdown",
   "id": "0ef285dd",
   "metadata": {
    "slideshow": {
     "slide_type": "slide"
    }
   },
   "source": [
    "## Apply function along single Axis"
   ]
  },
  {
   "cell_type": "code",
   "execution_count": null,
   "id": "fe328291",
   "metadata": {
    "slideshow": {
     "slide_type": "subslide"
    }
   },
   "outputs": [],
   "source": [
    "using Statistics \n",
    "indims = InDims(\"latitude\")\n",
    "outdims = OutDims()\n",
    "function apply_median(xout, xin)\n",
    "    x = filter(!ismissing, xin)\n",
    "\n",
    "    x = filter(!isnan,x)\n",
    "    #@show x\n",
    "\n",
    "    #filter!(!ismissing, x)\n",
    "    xout[] = isempty(x) ? missing : median(x)\n",
    "end"
   ]
  },
  {
   "cell_type": "code",
   "execution_count": null,
   "id": "91cea9e0",
   "metadata": {
    "slideshow": {
     "slide_type": "subslide"
    }
   },
   "outputs": [],
   "source": [
    "medians = mapCube(apply_median, c[Variable=Where(contains(\"t2m\"))];indims, outdims)"
   ]
  },
  {
   "cell_type": "code",
   "execution_count": null,
   "id": "16da9d7e",
   "metadata": {
    "slideshow": {
     "slide_type": "subslide"
    }
   },
   "outputs": [],
   "source": [
    "fig, ax, heat = heatmap(DimArray(medians[Variable=At(\"t2m\")]))"
   ]
  },
  {
   "cell_type": "markdown",
   "id": "90a5a0c3",
   "metadata": {
    "slideshow": {
     "slide_type": "slide"
    }
   },
   "source": [
    "## Apply function on all elements"
   ]
  },
  {
   "cell_type": "code",
   "execution_count": null,
   "id": "1e0c0e18",
   "metadata": {
    "slideshow": {
     "slide_type": "subslide"
    }
   },
   "outputs": [],
   "source": [
    "medians_kelvin = map(x-> x + 273.15, medians)"
   ]
  },
  {
   "cell_type": "markdown",
   "id": "8150d0d8",
   "metadata": {
    "slideshow": {
     "slide_type": "notes"
    }
   },
   "source": [
    "This function is applied lazily and only computed when the data is worked with. This could be a mapCube operation, saving the data to disk or plotting the data. "
   ]
  },
  {
   "cell_type": "code",
   "execution_count": null,
   "id": "3bd753f6",
   "metadata": {
    "slideshow": {
     "slide_type": "subslide"
    }
   },
   "outputs": [],
   "source": [
    "heatmap(DimArray(medians_kelvin[Variable=At(\"t2m\")]))"
   ]
  },
  {
   "cell_type": "markdown",
   "id": "560ac755",
   "metadata": {
    "slideshow": {
     "slide_type": "skip"
    }
   },
   "source": [
    "## Arguments for inner function and output dimensions"
   ]
  },
  {
   "cell_type": "markdown",
   "id": "4ae8ab42",
   "metadata": {
    "slideshow": {
     "slide_type": "notes"
    }
   },
   "source": [
    "Let's make a slightly more complex computation to demonstrate a case where multiple outputs are generated. For examples, imagine we want to normalize every time series (to zero mean and unit variance), but at the same time return the means and variances in a single dataset for later re-use:"
   ]
  },
  {
   "cell_type": "markdown",
   "id": "e2220e98",
   "metadata": {
    "slideshow": {
     "slide_type": "subslide"
    }
   },
   "source": [
    "## Apply function with multiple output cubes"
   ]
  },
  {
   "cell_type": "code",
   "execution_count": null,
   "id": "459ed57e",
   "metadata": {
    "slideshow": {
     "slide_type": "subslide"
    }
   },
   "outputs": [],
   "source": [
    "function norm(ts_out, mean_out, std_out, ts_in)\n",
    "    x = filter(!ismissing, ts_in)\n",
    "\n",
    "    tsshort = filter(!isnan,x)\n",
    "    if isempty(tsshort)\n",
    "        ts_out .= missing\n",
    "        mean_out[] = missing\n",
    "        std_out[] = missing\n",
    "    else\n",
    "        mean_out[] = mean(tsshort)\n",
    "        std_out[] = std(tsshort)\n",
    "        ts_out .= (ts_in .- mean_out[])./std_out[]\n",
    "    end\n",
    "end"
   ]
  },
  {
   "cell_type": "code",
   "execution_count": null,
   "id": "f5a3d6ce",
   "metadata": {
    "slideshow": {
     "slide_type": "subslide"
    }
   },
   "outputs": [],
   "source": [
    "using NetCDF\n",
    "indims = InDims(\"Time\")\n",
    "od_ts = OutDims(\"Time\",path = \"./normalized_ts.zarr\",\n",
    "                backend=:zarr,overwrite=true)\n",
    "od_m = OutDims(path = \"./means.nc\",backend=:netcdf, overwrite=true)\n",
    "od_s = OutDims(path = \"./stds.nc\",backend=:netcdf, overwrite=true)\n",
    "outdims = (od_ts, od_m, od_s)\n",
    "tsnorm, means, stds = mapCube(norm,c[Variable=Where(contains(\"t2m\"))],indims=indims, outdims=outdims);"
   ]
  },
  {
   "cell_type": "code",
   "execution_count": null,
   "id": "ddfee478",
   "metadata": {
    "scrolled": true,
    "slideshow": {
     "slide_type": "subslide"
    }
   },
   "outputs": [],
   "source": [
    "heatmap(DimArray(stds[Variable=At(\"t2m\")]))"
   ]
  },
  {
   "cell_type": "markdown",
   "id": "bb2f4986",
   "metadata": {
    "slideshow": {
     "slide_type": "slide"
    }
   },
   "source": [
    "## Apply function on moving window"
   ]
  },
  {
   "cell_type": "code",
   "execution_count": null,
   "id": "c04fec93",
   "metadata": {
    "slideshow": {
     "slide_type": "subslide"
    }
   },
   "outputs": [],
   "source": [
    "function meanfilter(xout, xin)\n",
    "    if ismissing(xin[2,2])\n",
    "        xout .= missing\n",
    "    else\n",
    "    xout .= mean(skipmissing(xin))\n",
    "    end\n",
    "end"
   ]
  },
  {
   "cell_type": "code",
   "execution_count": null,
   "id": "922f8bbb",
   "metadata": {},
   "outputs": [],
   "source": [
    "heatmap(DimArray(means[Variable=At(\"t2m\")]))"
   ]
  },
  {
   "cell_type": "code",
   "execution_count": null,
   "id": "ef89af29",
   "metadata": {},
   "outputs": [],
   "source": [
    "indims = InDims(MovingWindow(\"Longitude\", 1,1),MovingWindow(\"Latitude\", 1, 1))"
   ]
  },
  {
   "cell_type": "code",
   "execution_count": null,
   "id": "513d7a8d",
   "metadata": {},
   "outputs": [],
   "source": [
    "filteredmeans = mapCube(meanfilter, means, indims=indims, outdims=OutDims())"
   ]
  },
  {
   "cell_type": "code",
   "execution_count": null,
   "id": "39c1fe80",
   "metadata": {},
   "outputs": [],
   "source": [
    "heatmap(DimArray(filteredmeans[Variable=At(\"t2m\")]))"
   ]
  },
  {
   "cell_type": "markdown",
   "id": "9a653e66",
   "metadata": {
    "slideshow": {
     "slide_type": "slide"
    }
   },
   "source": [
    "## Define new output dimensions"
   ]
  },
  {
   "cell_type": "code",
   "execution_count": null,
   "id": "ef0b504c",
   "metadata": {
    "slideshow": {
     "slide_type": "subslide"
    }
   },
   "outputs": [],
   "source": [
    "using Dates\n",
    "pet = c[Variable=At(\"pet\"),\n",
    "        lon=Near(11.3464),lat=Near(46.4946)]\n",
    "fig,ax, pl = lines(lookup(pet, Ti).data,pet.data)\n",
    "fig\n"
   ]
  },
  {
   "cell_type": "markdown",
   "id": "72043507",
   "metadata": {
    "slideshow": {
     "slide_type": "notes"
    }
   },
   "source": [
    "So far the function applied here were very simple statistics. Just to stress again, that we are running arbitrary Julia code here, so for example if we want to use some package for time series decomposition like `SignalDecomposition.jl`:"
   ]
  },
  {
   "cell_type": "code",
   "execution_count": null,
   "id": "b903d72c",
   "metadata": {
    "slideshow": {
     "slide_type": "subslide"
    }
   },
   "outputs": [],
   "source": [
    "using SignalDecomposition: TimeAnomaly, decompose as dc \n",
    "dates = lookup(pet, Ti)\n",
    "stlres = dc(dates,pet.data[:],TimeAnomaly())"
   ]
  },
  {
   "cell_type": "code",
   "execution_count": null,
   "id": "c629ce29",
   "metadata": {},
   "outputs": [],
   "source": [
    "fig,ax, p = plot(dates, stlres[1])\n",
    "ax2 = Axis(fig[2,1])\n",
    "plot!(ax2,stlres[2])\n",
    "fig"
   ]
  },
  {
   "cell_type": "markdown",
   "id": "26b038ed",
   "metadata": {
    "slideshow": {
     "slide_type": "notes"
    }
   },
   "source": [
    "In order to apply this over a full array we define the usual Trio: indims, outdims and the function to be applied. Here we create a new dimension for the output. There are 2 types of axes in YAXArrays, `CategoricalAxis` for unordered and `RangeAxis` for ordered dimensions. Here we create a categorical axis for our outputs. This means that inside the function the input array `xin` is a vector with of length `n_timesteps` and the output is a matrix of size `n_timesteps x 3` "
   ]
  },
  {
   "cell_type": "code",
   "execution_count": null,
   "id": "507510e1",
   "metadata": {
    "slideshow": {
     "slide_type": "subslide"
    }
   },
   "outputs": [],
   "source": [
    "import Logging\n",
    "Logging.disable_logging(Logging.Info)\n",
    "indims = InDims(\"time\")\n",
    "outdims = OutDims(dims(c,Ti),Dim{:Scale}([\"Seasonal\", \"anomalies\", \"trend\"]), \n",
    "                    path = \"decomposed.zarr\",backend=:zarr, overwrite=true)\n",
    "function decompose_TS(xout, xin, dates)\n",
    "    any(isnan,xin) && return xout .= missing\n",
    "    seas, anomaly = dc(dates,xin,TimeAnomaly())\n",
    "\n",
    "    xout[:,1] = seas\n",
    "    xout[:,2] = anomaly\n",
    "end"
   ]
  },
  {
   "cell_type": "code",
   "execution_count": null,
   "id": "c085ba62",
   "metadata": {
    "slideshow": {
     "slide_type": "skip"
    }
   },
   "outputs": [],
   "source": [
    "using Logging\n",
    "Logging.disable_logging(Warn)\n"
   ]
  },
  {
   "cell_type": "code",
   "execution_count": null,
   "id": "28e7d36c",
   "metadata": {
    "slideshow": {
     "slide_type": "subslide"
    }
   },
   "outputs": [],
   "source": [
    "@time dec = mapCube(decompose_TS, \n",
    "    c[Variable=At(\"t2m\")],\n",
    "    lookup(c, Ti),\n",
    "        #lon=Near(11.3464),lat=Near(46.4946)],\n",
    "    indims = indims,\n",
    "    outdims = outdims)"
   ]
  },
  {
   "cell_type": "code",
   "execution_count": null,
   "id": "953e41cb",
   "metadata": {
    "slideshow": {
     "slide_type": "skip"
    }
   },
   "outputs": [],
   "source": [
    "dec[Scale=At(\"trend\")][1,1,1]"
   ]
  },
  {
   "cell_type": "code",
   "execution_count": null,
   "id": "32941b3e",
   "metadata": {
    "slideshow": {
     "slide_type": "skip"
    }
   },
   "outputs": [],
   "source": [
    "fig, axseas, heatyax = lines( lookup(dec, Ti).data,\n",
    "    dec[lon=Near(11.3464),lat=Near(46.4946)].data[:,1])\n",
    "fig"
   ]
  },
  {
   "cell_type": "markdown",
   "id": "b64900d6-2b23-4484-8737-baf25c2bfde5",
   "metadata": {},
   "source": [
    "### Compute variance and plot a map of seasonal variance"
   ]
  },
  {
   "cell_type": "code",
   "execution_count": null,
   "id": "99f742e8",
   "metadata": {
    "slideshow": {
     "slide_type": "skip"
    }
   },
   "outputs": [],
   "source": [
    "scalevar = mapslices(var,dec,dims=\"Time\")\n",
    "scalerange = mapslices(x->maximum(x) - minimum(x), dec, dims=\"Time\")"
   ]
  },
  {
   "cell_type": "code",
   "execution_count": null,
   "id": "aaeca371",
   "metadata": {
    "slideshow": {
     "slide_type": "skip"
    }
   },
   "outputs": [],
   "source": [
    "heatmap(scalerange[scale=At(\"Seasonal\")])"
   ]
  },
  {
   "cell_type": "code",
   "execution_count": null,
   "id": "c9cf84d3",
   "metadata": {
    "slideshow": {
     "slide_type": "skip"
    }
   },
   "outputs": [],
   "source": [
    "heatmap(scalevar[scale=At(\"anomalies\")])"
   ]
  },
  {
   "cell_type": "markdown",
   "id": "0bbc22e7",
   "metadata": {
    "slideshow": {
     "slide_type": "slide"
    }
   },
   "source": [
    "## Use Python or R in inner function"
   ]
  },
  {
   "cell_type": "code",
   "execution_count": null,
   "id": "c9a3b1d3",
   "metadata": {
    "slideshow": {
     "slide_type": "subslide"
    }
   },
   "outputs": [],
   "source": [
    "using PythonCall\n",
    "scipyndimage = pyimport(\"scipy.ndimage\")"
   ]
  },
  {
   "cell_type": "code",
   "execution_count": null,
   "id": "db6e87f7",
   "metadata": {
    "slideshow": {
     "slide_type": "subslide"
    }
   },
   "outputs": [],
   "source": [
    "using Missings\n",
    "function gaussian_smooth(xout, xin)\n",
    "    missinds = .!ismissing.(xin)\n",
    "    cleanin = disallowmissing(xin[missinds])\n",
    "    smooth = scipyndimage.gaussian_filter(cleanin, sigma=4)\n",
    "    @show typeof(smooth)\n",
    "    xout[missinds] .= pyconvert(Vector, smooth)\n",
    "end"
   ]
  },
  {
   "cell_type": "code",
   "execution_count": null,
   "id": "5e67b6a1",
   "metadata": {
    "slideshow": {
     "slide_type": "subslide"
    }
   },
   "outputs": [],
   "source": [
    "pet_bozen_2010 = c[lon=Near(11.3464),lat=Near(46.4946),\n",
    "    time = DateTime(2010)..DateTime(2011),\n",
    "    Variable=At(\"pet\")]"
   ]
  },
  {
   "cell_type": "code",
   "execution_count": null,
   "id": "5e59f8d7",
   "metadata": {},
   "outputs": [],
   "source": [
    "using Missings\n",
    "petmem = disallowmissing(readcubedata(pet_bozen_2010).data)\n",
    "nonmissinds = .!ismissing.(petmem)\n",
    "view(petmem, nonmissinds )\n",
    "disallowmissing(collect(petmem))\n",
    "smooth = scipyndimage.gaussian_filter(Py(petmem), sigma=4)\n",
    "pyconvert(Vector, smooth)"
   ]
  },
  {
   "cell_type": "code",
   "execution_count": null,
   "id": "f7e2d1da",
   "metadata": {
    "slideshow": {
     "slide_type": "fragment"
    }
   },
   "outputs": [],
   "source": [
    "smoothcube = mapCube(gaussian_smooth, pet_bozen_2010, indims=InDims(\"time\"), outdims=OutDims(\"time\"))"
   ]
  },
  {
   "cell_type": "code",
   "execution_count": null,
   "id": "5e9ec213",
   "metadata": {
    "slideshow": {
     "slide_type": "subslide"
    }
   },
   "outputs": [],
   "source": [
    "fig, ax, l = lines(pet_bozen_2010, label=\"Original\")\n",
    "lines!(ax,smoothcube, label=\"Smooth\")\n",
    "axislegend(ax)\n",
    "fig"
   ]
  }
 ],
 "metadata": {
  "@webio": {
   "lastCommId": null,
   "lastKernelId": null
  },
  "kernelspec": {
   "display_name": "Julia 1.10.5",
   "language": "julia",
   "name": "julia-1.10"
  },
  "language_info": {
   "file_extension": ".jl",
   "mimetype": "application/julia",
   "name": "julia",
   "version": "1.10.5"
  },
  "widgets": {
   "application/vnd.jupyter.widget-state+json": {
    "state": {},
    "version_major": 2,
    "version_minor": 0
   }
  }
 },
 "nbformat": 4,
 "nbformat_minor": 5
}
