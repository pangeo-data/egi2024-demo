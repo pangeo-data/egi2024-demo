{
 "cells": [
  {
   "cell_type": "markdown",
   "id": "a561757d-d091-44e4-b4cd-887f2a338196",
   "metadata": {},
   "source": [
    "# Applying Cross Scattering Transform in Earth Observation imagery to fill missing values"
   ]
  },
  {
   "cell_type": "markdown",
   "id": "830a408b-8a7c-47a4-9b2f-0b3eb138a3aa",
   "metadata": {},
   "source": [
    "## Authors & Contributors\n",
    "### Authors\n",
    "- Jean-Marc Delouis, LOPS - Laboratoire d'Oceanographie Physique et Spatiale\n",
    "UMR 6523 CNRS-IFREMER-IRD-Univ.Brest-IUEM  (France), [@jmdelouis](https://github.com/jmdelouis)\n",
    "\n",
    "### Contributors\n",
    "- Anne Fouilloux, Simula (Norway), [@annefou](https://github.com/annefou)\n",
    "- Tina Odaka, LOPS - Laboratoire d'Oceanographie Physique et Spatiale\n",
    "UMR 6523 CNRS-IFREMER-IRD-Univ.Brest-IUEM (France), [@tinaok](https://github.com/tinaok)\n",
    "- Justus Magin, LOPS - Laboratoire d'Oceanographie Physique et Spatiale\n",
    "UMR 6523 CNRS-IFREMER-IRD-Univ.Brest-IUEM (France), [@keewis](https://github.com/keewis)\n",
    "\n",
    "### Modelling publication\n",
    "```{bibliography}\n",
    "  :style: plain\n",
    "  :list: bullet\n",
    "  :filter: topic % \"jmdelouis2022\"\n",
    "```\n"
   ]
  },
  {
   "cell_type": "markdown",
   "id": "fac6cea2-55ee-4f55-a79b-99b9076a6505",
   "metadata": {},
   "source": [
    "<div class=\"alert alert-info\">\n",
    "<i class=\"fa-question-circle fa\" style=\"font-size: 22px;color:#666;\"></i> Overview\n",
    "    <br>\n",
    "    <br>\n",
    "    <b>Questions</b>\n",
    "    <ul>\n",
    "        <li>What is healpix grid?</li>\n",
    "        <li>How do I read Copernicus Marine data in its original healpix grid?</li>\n",
    "        <li>What is Cross Scattering Transform and what can I used it for?</li>\n",
    "        <li>What is foscat?</li>\n",
    "        <li>How can I use cross scattering transform to fill missing values?</li>\n",
    "    </ul>\n",
    "    <b>Objectives</b>\n",
    "    <ul>\n",
    "        <li>Learn about Healpix</li>\n",
    "        <li>Learn about Cross Scattering Transform and foscat Python package</li>\n",
    "        <li>Learn about Dask, Dask Gateway, Dask Client, Scheduler, Workers</li>\n",
    "        <li>Understand out-of-core and speed-up limitations</li>\n",
    "    </ul>\n",
    "</div>"
   ]
  },
  {
   "cell_type": "markdown",
   "id": "c4c18477-b688-4602-a63c-98d93cc220fd",
   "metadata": {},
   "source": [
    "## Context\n",
    "\n",
    "\n",
    "Most Earth Observation images contain values that need to be \"removed\" or set to missing, such as pixels with clouds when we are interested in the land surface. Filling the \"gaps\" or denoising data in the most realistic way is challenging and we investigate the usage of Cross Scattering Transform  with [foscat](https://foscat-documentation.readthedocs.io/en/latest/index.html) Python Package. \n",
    "\n",
    "As remote sensing data can be quite large, we also use [Dask](https://docs.dask.org/) with [Xarray](https://docs.xarray.dev/en/stable/) to parallelize our data analysis. \n",
    "\n",
    "### Modelling approach\n",
    "\n",
    "This notebook applies an algorithm developed using scattering transforms to denoise and distinguish dust polarization from data noise on spherical images. Implementation and testing revealed effective recovery of dust emission statistics until certain limits. This method will be used in Earth Observation imagery to fill in missing values and provide a more accurate representation. The details of this algorithm are given in the paper entitled \"**Non-Gaussian modelling and statistical denoising of Planck dust polarization full-sky maps using scattering transforms**\", *Delouis et al.*, 2022. DOI: [10.1051/0004-6361/202244566](http://dx.doi.org/10.1051/0004-6361/202244566)\n",
    "\n",
    "### Data\n",
    "\n",
    "In this episode, we will be using datasets from [Copernicus Marine Service](https://marine.copernicus.eu):\n",
    "- [ODYSSEA Global Sea Surface Temperature Gridded Level 4 Daily Multi-Sensor Observations](https://data.marine.copernicus.eu/product/SST_GLO_PHY_L4_NRT_010_043/description). DOI (product): [h10.48670/mds-00321](https://doi.org/10.48670/mds-00321))\n",
    "- [ODYSSEA Global Ocean - Sea Surface Temperature Multi-sensor L3S Observations](https://data.marine.copernicus.eu/product/SST_GLO_SST_L3S_NRT_OBSERVATIONS_010_010/description). DOI (product): [10.48670/moi-00164](https://doi.org/10.48670/moi-00164).\n",
    "\n",
    "Both datasetst are in [Zarr](https://zarr.dev) format and will be accessed through [S3-compatible object storage](https://en.wikipedia.org/wiki/Amazon_S3)."
   ]
  },
  {
   "cell_type": "markdown",
   "id": "a5fdb0e4-b30f-43e4-8cbb-c523fa8290ea",
   "metadata": {},
   "source": [
    "## Setup\n",
    "\n",
    "This episode uses the following main Python packages:\n",
    "\n",
    "- numpy {cite:ps}`a-numpy-harris2020`   \n",
    "- healpy {cite:ps}`a-healpy-zonca2024`   \n",
    "- xarray {cite:ps}`a-xarray-hoyer2017` with [`netCDF4`](https://pypi.org/project/h5netcdf/), [`h5netcdf`](https://pypi.org/project/h5netcdf/) and [`zarr`](https://pypi.org/project/zarr/) engines\n",
    "- xdggs {cite:ps}`a-xdggs-2024`                                                                           \n",
    "- foscat {cite:ps}`a-foscat-delouis2024`\n",
    "- matplotlib {cite:ps}`a-matplotlib-Hunter2007`\n",
    "- hvplot {cite:ps}`a-holoviews-rudiger2020`\n",
    "- cmcrameri {cite:ps}`a-cmcrameri-crameri2018`\n",
    "- pyinterp {cite:ps}`a-pyinterp`\n",
    "\n",
    "Please install these packages if not already available in your Python environment.\n",
    "\n",
    "### Packages\n",
    "\n",
    "In this episode, Python packages are imported when we start to use them. However, for best software practices, we recommend you to install and import all the necessary libraries at the top of your Jupyter notebook."
   ]
  },
  {
   "cell_type": "markdown",
   "id": "3956c11c",
   "metadata": {},
   "source": [
    "## Installation of required packages"
   ]
  },
  {
   "cell_type": "code",
   "execution_count": null,
   "id": "03327acd-6a46-481e-9025-6e94e6d52a6c",
   "metadata": {
    "editable": true,
    "scrolled": true,
    "slideshow": {
     "slide_type": ""
    },
    "tags": [
     "hide-output"
    ]
   },
   "outputs": [],
   "source": [
    "!pip install cmcrameri foscat xdggs "
   ]
  },
  {
   "cell_type": "code",
   "execution_count": null,
   "id": "4e1d5fab-e4fd-4e97-8277-aacdd3fb8b3f",
   "metadata": {
    "scrolled": true,
    "tags": []
   },
   "outputs": [],
   "source": [
    "!mamba install pyinterp -y"
   ]
  },
  {
   "cell_type": "markdown",
   "id": "847d3ecc",
   "metadata": {},
   "source": [
    "## Import necessary libraries"
   ]
  },
  {
   "cell_type": "code",
   "execution_count": null,
   "id": "84d74fba-a286-46f1-a312-795d513f0cef",
   "metadata": {
    "tags": []
   },
   "outputs": [],
   "source": [
    "import xarray as xr\n",
    "import numpy as np\n",
    "\n",
    "import pint_xarray\n",
    "import cf_xarray.units  \n",
    "\n",
    "import healpy as hp\n",
    "import matplotlib.pyplot as plt\n",
    "import foscat.Synthesis as synthe\n",
    "import foscat.scat_cov as sc\n",
    "\n",
    "\n",
    "import xdggs\n",
    "\n",
    "import holoviews as hv\n",
    "import hvplot.xarray\n",
    "import cmcrameri.cm as cmc"
   ]
  },
  {
   "cell_type": "markdown",
   "id": "4e38650c",
   "metadata": {},
   "source": [
    "## Create a local Dask cluster on the local machine"
   ]
  },
  {
   "cell_type": "code",
   "execution_count": null,
   "id": "1e0b2ecd-eed4-437a-b27c-8850791fc2ea",
   "metadata": {
    "tags": []
   },
   "outputs": [],
   "source": [
    "from dask.distributed import Client\n",
    "\n",
    "client = Client()   # create a local dask cluster on the local machine.\n",
    "client"
   ]
  },
  {
   "cell_type": "markdown",
   "id": "934eb7fa-76b6-4a22-a139-3eb53989645d",
   "metadata": {},
   "source": [
    "Inspecting the `Cluster Info` section above gives us information about the created cluster: we have 2 or 4 workers and the same number of threads (e.g. 1 thread per worker). \n",
    "\n"
   ]
  },
  {
   "cell_type": "markdown",
   "id": "736568ed-7e5b-4184-bf7a-26e1d2426f93",
   "metadata": {},
   "source": [
    "<div class=\"alert alert-warning\">\n",
    "    <i class=\"fa-check-circle fa\" style=\"font-size: 22px;color:#666;\"></i> <b>Go further</b>\n",
    "    <br>\n",
    "    <ul>\n",
    "        <li> You can also create a local cluster with the `LocalCluster` constructor and use `n_workers` \n",
    "        and `threads_per_worker` to manually specify the number of processes and threads you want to use. \n",
    "        For instance, we could use `n_workers=2` and `threads_per_worker=2`.  </li>\n",
    "        <li> This is sometimes preferable (in terms of performance), or when you run this tutorial on your PC, \n",
    "        you can avoid dask to use all your resources you have on your PC!  </li>\n",
    "    </ul>\n",
    "</div>"
   ]
  },
  {
   "cell_type": "markdown",
   "id": "127f1063-c2e1-4911-9fa8-ab2fec2c8044",
   "metadata": {},
   "source": [
    "## Dask Dashboard\n",
    "\n",
    "Dask comes with a really handy interface: the Dask Dashboard. It is a web interface that you can open in a separate tab of your browser.\n",
    "\n",
    "We will learn here how to use it through the [Dask JupyterLab extension](https://github.com/dask/dask-labextension).\n",
    "\n",
    "To use the Dask Dashboard through the JupyterLab extension on the Pangeo EOSC infrastructure, you will just need to click *Launch dashboard in JupyterLab* at the Client configuration in your JupyterLab, and the Dask dashboard port number, as highlighted in the figure below.\n",
    "\n",
    "![Dashboard link](./images/dashboardlink.png)\n",
    "\n",
    "![Dask Lab](./images/dasklab.png)\n",
    "\n",
    "Then click the orange icon indicated in the above figure, and type your dashboard link.\n",
    "\n",
    "You can click several buttons indicated with red arrows in the above figures, then drag and drop them to place them as per your convenience.\n",
    "\n",
    "![Example Dask Lab](./images/exampledasklab.png)\n",
    "\n",
    "It's really helpful to understand your computation and how it is distributed."
   ]
  },
  {
   "cell_type": "markdown",
   "id": "aba6e63f",
   "metadata": {
    "tags": [],
    "toc-hr-collapsed": true
   },
   "source": [
    "## Data Loading: Get data from Copernicus Marine Services\n",
    "\n",
    "Data from Copernicus Marine Service is available in `zarr` format via s3-compatible object storage which make this data easily and efficiently accessible.\n",
    "\n",
    "Lets choose the date we want to make the gap filling."
   ]
  },
  {
   "cell_type": "code",
   "execution_count": null,
   "id": "c6fd554f-e6f8-422c-97c4-697f29c7d351",
   "metadata": {
    "tags": []
   },
   "outputs": [],
   "source": [
    "time_slice = slice('2024-06-01', '2024-06-01')"
   ]
  },
  {
   "cell_type": "markdown",
   "id": "545f4e1d",
   "metadata": {},
   "source": [
    "### Load Global Ocean Sea Surface Temperature L3S Observations Dataset from Copernicus Marine Services\n",
    "\n",
    "*This product provides daily foundation sea surface temperature from multiple satellite sources on a 0.10 x 0.10 degree grid (approximately 10 x 10 km) for the Global Ocean.* It contains 'gaps' due to clouds."
   ]
  },
  {
   "cell_type": "code",
   "execution_count": null,
   "id": "73a06861-38ad-4ec8-a7a6-6ef21321cea7",
   "metadata": {
    "scrolled": true,
    "tags": []
   },
   "outputs": [],
   "source": [
    "L3S = xr.open_zarr(\"https://s3.waw3-1.cloudferro.com/mdl-arco-time-045/arco/SST_GLO_SST_L3S_NRT_OBSERVATIONS_010_010/IFREMER-GLOB-SST-L3-NRT-OBS_FULL_TIME_SERIE_202211/timeChunked.zarr\"\n",
    ").sel(time=time_slice)\n",
    "\n",
    "L3S"
   ]
  },
  {
   "cell_type": "markdown",
   "id": "84562737-8485-4be7-807d-11010c844185",
   "metadata": {},
   "source": [
    "<div class=\"alert alert-success\">\n",
    "    <i class=\"fa-check-circle fa\" style=\"font-size: 22px;color:#666;\"></i> <b>Key Points</b>\n",
    "    <br>\n",
    "    <ul>\n",
    "        <li>Where do you find attributes?</li>\n",
    "        <li>What kind of data variables do you find in this dataset? What are the coordinates and dimensions?</li>\n",
    "    </ul>\n",
    "</div>"
   ]
  },
  {
   "cell_type": "markdown",
   "id": "07a8b96d-b034-4385-b605-ba895a3b8dac",
   "metadata": {},
   "source": [
    "Lets try to plot sea surfarce temperature values."
   ]
  },
  {
   "cell_type": "code",
   "execution_count": null,
   "id": "39652b76-0dbf-4000-8b10-c3038d00b96d",
   "metadata": {
    "tags": []
   },
   "outputs": [],
   "source": [
    "L3S['sea_surface_temperature'].plot()"
   ]
  },
  {
   "cell_type": "markdown",
   "id": "532393c7",
   "metadata": {},
   "source": [
    "### Load L4 Dataset from Copernicus Marine Services\n",
    "\n",
    "*This dataset provides a time series of gap-free maps of Sea Surface Temperature (SST) foundation at high resolution on a 0.10 x 0.10 degree grid (approximately 10 x 10 km) for the Global Ocean, updated every 24 hours.*\n",
    "\n",
    "We load the data in `L4` and select one date.\n",
    "\n",
    "### Geo Chunk and Time Chunk\n",
    "Let's try to load data in 'geo' chunked format and 'time' chunked format to see the differences. "
   ]
  },
  {
   "cell_type": "code",
   "execution_count": null,
   "id": "3f628132-fcdb-4122-ac74-aaaaf14ae07a",
   "metadata": {
    "tags": []
   },
   "outputs": [],
   "source": [
    "L4 = xr.open_zarr(\n",
    " \"https://s3.waw3-1.cloudferro.com/mdl-arco-geo-045/arco/SST_GLO_PHY_L4_NRT_010_043/cmems_obs-sst_glo_phy_nrt_l4_P1D-m_202303/geoChunked.zarr\"\n",
    " ).sel(time=time_slice)\n",
    "\n",
    "L4"
   ]
  },
  {
   "cell_type": "code",
   "execution_count": null,
   "id": "950c44d5-1036-4564-bdd8-dad2ff025e46",
   "metadata": {
    "tags": []
   },
   "outputs": [],
   "source": [
    "L4 = xr.open_zarr(\n",
    " \"https://s3.waw3-1.cloudferro.com/mdl-arco-time-045/arco/SST_GLO_PHY_L4_NRT_010_043/cmems_obs-sst_glo_phy_nrt_l4_P1D-m_202303/timeChunked.zarr\"\n",
    " ).sel(time=time_slice)\n",
    "\n",
    "L4"
   ]
  },
  {
   "cell_type": "markdown",
   "id": "c604d970-7870-45fd-9d88-f0b105e0c3ad",
   "metadata": {},
   "source": [
    "<div class=\"alert alert-success\">\n",
    "    <i class=\"fa-check-circle fa\" style=\"font-size: 22px;color:#666;\"></i> <b>Key Points</b>\n",
    "    <br>\n",
    "    <ul>\n",
    "        <li>`geo` and `time`:  which chunk is suitable for our computation??</li>\n",
    "    </ul>\n",
    "</div>"
   ]
  },
  {
   "cell_type": "markdown",
   "id": "e2e08c48",
   "metadata": {},
   "source": [
    "### Preprocess the L4 gap free SST data"
   ]
  },
  {
   "cell_type": "markdown",
   "id": "42bf34ee-47c9-4145-92f7-3c055d822d6e",
   "metadata": {},
   "source": [
    "Lets create Xarray dataset with `land` `sea ice` `lake` bit mask variable"
   ]
  },
  {
   "cell_type": "code",
   "execution_count": null,
   "id": "9f48158c-215d-4483-8d3e-dc43f9997eb0",
   "metadata": {
    "scrolled": true,
    "tags": []
   },
   "outputs": [],
   "source": [
    "ds = L4[['mask']]\n",
    "ds"
   ]
  },
  {
   "cell_type": "code",
   "execution_count": null,
   "id": "cf35a903-495c-4d38-98e5-207805ecde25",
   "metadata": {
    "tags": []
   },
   "outputs": [],
   "source": [
    "ds['mask'].plot(y='latitude', x='longitude')"
   ]
  },
  {
   "cell_type": "markdown",
   "id": "9ce81b8b-efd8-4396-8aed-78b82f269979",
   "metadata": {},
   "source": [
    "#### Get land-sea mask (0-1)\n",
    "\n",
    "Lets set sea to 1 and everything else to 0"
   ]
  },
  {
   "cell_type": "code",
   "execution_count": null,
   "id": "04cab86d-2b0b-44ec-a973-b2b4f5b47c5f",
   "metadata": {
    "tags": []
   },
   "outputs": [],
   "source": [
    "ds['mask'] = xr.where(ds.mask==1,True,False)"
   ]
  },
  {
   "cell_type": "code",
   "execution_count": null,
   "id": "89681789-c68b-49a1-8743-3b95da6aedc4",
   "metadata": {
    "tags": []
   },
   "outputs": [],
   "source": [
    "ds['mask'].plot(y='latitude', x='longitude', cmap=\"binary\")"
   ]
  },
  {
   "cell_type": "markdown",
   "id": "1695bbef-93b6-43a4-b70b-1bbbd66e4ea2",
   "metadata": {},
   "source": [
    "#### Lets check the unit.\n"
   ]
  },
  {
   "cell_type": "code",
   "execution_count": null,
   "id": "d9eddd3b-cf3c-4928-adab-236690c59dae",
   "metadata": {
    "tags": []
   },
   "outputs": [],
   "source": [
    "L4['analysed_sst'].attrs"
   ]
  },
  {
   "cell_type": "code",
   "execution_count": null,
   "id": "41578b25-3450-4fa4-a33a-68365e61b4de",
   "metadata": {
    "tags": []
   },
   "outputs": [],
   "source": [
    "L4['analysed_sst'].attrs['units']"
   ]
  },
  {
   "cell_type": "markdown",
   "id": "7a5e75aa-7b3d-48fa-a43f-33e416f90f34",
   "metadata": {},
   "source": [
    "With pint xarray one can convert units.   Lets convert SST L4 from Kelvin to Celcius."
   ]
  },
  {
   "cell_type": "code",
   "execution_count": null,
   "id": "6acd6d5c-73e0-4aaa-a7e4-b566ed7b2e9e",
   "metadata": {
    "tags": []
   },
   "outputs": [],
   "source": [
    "L4['analysed_sst'].pint.quantify().pint.to(\"degC\").pint.dequantify()"
   ]
  },
  {
   "cell_type": "code",
   "execution_count": null,
   "id": "de14802e-c66f-412e-b76d-3747358df66b",
   "metadata": {
    "tags": []
   },
   "outputs": [],
   "source": [
    "ds['SST_L4'] = L4['analysed_sst'].pint.quantify().pint.to(\"degC\").pint.dequantify()\n"
   ]
  },
  {
   "cell_type": "markdown",
   "id": "afaaa206-93f2-4f1c-856d-87a302abb7b6",
   "metadata": {},
   "source": [
    "### Preprocess the L3 SST data\n",
    "\n",
    "#### Convert SST L3 from Celcius to Kelvin and only keep data where quality_level = 5\n",
    "\n",
    "SST L3 data is quality controlled and quality levels are assigned with the following meaning:\n",
    "- no_data -> 0\n",
    "- bad_data -> 1\n",
    "- worst_quality -> 2\n",
    "- low_quality -> 3\n",
    "- acceptable_quality -> 4\n",
    "- best_quality -> 5\n",
    "\n",
    "We will filter SST L3 and only keep values with best quality (`quality_level =  5`)."
   ]
  },
  {
   "cell_type": "code",
   "execution_count": null,
   "id": "cf8dbbc0-8139-4382-8fe3-1ecc452aea65",
   "metadata": {
    "tags": []
   },
   "outputs": [],
   "source": [
    "ds['SST_L3S'] = (\n",
    "    L3S['sea_surface_temperature'].pint.quantify().pint.to(\"degC\").pint.dequantify()\n",
    ").where ((L3S.quality_level ==5 ))\n"
   ]
  },
  {
   "cell_type": "markdown",
   "id": "028f2849-030a-418a-b8bc-d509ec0d0523",
   "metadata": {},
   "source": [
    "#### Mask values for land, ice and lakes\n",
    "\n",
    "Use our binary mask and set SST to -100.\n",
    "\n",
    "We do not set it to missing values (`np.nan`) because we want later to differentiate between pixels with clouds (missing values e.g. `np.nan`) and land."
   ]
  },
  {
   "cell_type": "code",
   "execution_count": null,
   "id": "c58d3c0f-9646-4459-8060-5eb1ed8bd0b8",
   "metadata": {
    "tags": []
   },
   "outputs": [],
   "source": [
    "ds['SST_L3S'] = ds['SST_L3S'].where(ds.mask, -100)"
   ]
  },
  {
   "cell_type": "markdown",
   "id": "1dc3f1a2-130c-4aa2-8208-de69bacb921b",
   "metadata": {},
   "source": [
    "#### Lets try Persist() ;\n",
    "\n",
    "`persist()` load data from disk, triggers computation and keeps data as dask arrays in your memory. \n",
    "Please watch carefully the dask lab view"
   ]
  },
  {
   "cell_type": "code",
   "execution_count": null,
   "id": "9b1da03c-590b-4175-b4fa-547802798ae8",
   "metadata": {
    "tags": []
   },
   "outputs": [],
   "source": [
    "ds=ds.persist()"
   ]
  },
  {
   "cell_type": "code",
   "execution_count": null,
   "id": "0ad03ec7-e2e3-4403-897c-aef4d54248df",
   "metadata": {
    "tags": []
   },
   "outputs": [],
   "source": [
    "ds.SST_L3S.hvplot(y='latitude', x='longitude')"
   ]
  },
  {
   "cell_type": "markdown",
   "id": "55432849-155d-45cd-9a5a-540623c9265b",
   "metadata": {},
   "source": [
    "## Save Dataset to local Zarr\n",
    "\n",
    "Zarr is a data format for storing chunked, compressed, N-dimensional arrays. "
   ]
  },
  {
   "cell_type": "code",
   "execution_count": null,
   "id": "66d1101c-723c-402e-860b-6c41b918be4e",
   "metadata": {
    "editable": true,
    "slideshow": {
     "slide_type": ""
    },
    "tags": []
   },
   "outputs": [],
   "source": [
    "ds.to_zarr('SST.zarr', mode='w')"
   ]
  },
  {
   "cell_type": "code",
   "execution_count": null,
   "id": "6d4d8049-7b8f-446f-b3a1-21fb8c8011da",
   "metadata": {
    "tags": []
   },
   "outputs": [],
   "source": [
    "!ls"
   ]
  },
  {
   "cell_type": "code",
   "execution_count": null,
   "id": "6ba4f624-c4e1-4c4a-bfeb-9a1f848059c9",
   "metadata": {
    "tags": []
   },
   "outputs": [],
   "source": [
    "!ls -lart SST.zarr"
   ]
  },
  {
   "cell_type": "code",
   "execution_count": null,
   "id": "7e5b4ed5-e904-4d4f-9fe5-79b14c99887c",
   "metadata": {
    "tags": []
   },
   "outputs": [],
   "source": [
    "!cat SST.zarr/.zmetadata | head -n 30"
   ]
  },
  {
   "cell_type": "markdown",
   "id": "caa1fbb1-21e5-4402-ae91-95bb17157ffa",
   "metadata": {},
   "source": [
    "<div class=\"alert alert-success\">\n",
    "    <i class=\"fa-check-circle fa\" style=\"font-size: 22px;color:#666;\"></i> <b>Key Points</b>\n",
    "    <br>\n",
    "    <ul>\n",
    "        <li>What is 'zarr' format?  </li>\n",
    "    </ul>\n",
    "</div>"
   ]
  },
  {
   "cell_type": "markdown",
   "id": "a447d590-9db6-4e6f-af2a-58ce5e874d23",
   "metadata": {},
   "source": [
    "## Data preparation\n"
   ]
  },
  {
   "cell_type": "markdown",
   "id": "5e8287f3-b21b-4f7d-bb1a-a76bf73dbe1a",
   "metadata": {},
   "source": [
    "Lets open the zarr file we prepared, and this time lets use hvplot for plotting the sea surface temperature."
   ]
  },
  {
   "cell_type": "code",
   "execution_count": null,
   "id": "f86342d3-da77-4c09-81d8-0e04f0d0333b",
   "metadata": {
    "tags": []
   },
   "outputs": [],
   "source": [
    "ds = xr.open_dataset(\"SST.zarr\", engine=\"zarr\").isel(time=0)#.persist()\n",
    "ds"
   ]
  },
  {
   "cell_type": "code",
   "execution_count": null,
   "id": "8bc88019-b9c1-4e2e-8c6a-d5755585fc2d",
   "metadata": {
    "scrolled": true,
    "tags": []
   },
   "outputs": [],
   "source": [
    "ds['SST_L3S'].hvplot(y='latitude', x='longitude', width=800, height=400)"
   ]
  },
  {
   "cell_type": "markdown",
   "id": "96bc2e07-2304-48c6-be67-4a16f67d7379",
   "metadata": {},
   "source": [
    "### How can we fill the gap using Xarray functions? "
   ]
  },
  {
   "cell_type": "code",
   "execution_count": null,
   "id": "cb3b8bba-9745-4613-88f2-7abc94d2ce75",
   "metadata": {
    "scrolled": true,
    "tags": []
   },
   "outputs": [],
   "source": [
    "da=ds.SST_L3S\n",
    "(da\n",
    "    .interpolate_na(dim=\"latitude\",\n",
    "                  method=\"linear\")\n",
    "    .interpolate_na(dim=\"longitude\",\n",
    "                  method=\"linear\")\n",
    "\n",
    "    .plot()\n",
    ")"
   ]
  },
  {
   "cell_type": "markdown",
   "id": "9981b5da-e1da-40c7-b719-4a0cc9e8e331",
   "metadata": {},
   "source": [
    "### We can also use tools like pyinterp\n",
    "to know more about pyinterp, \n",
    "https://pangeo-pyinterp.readthedocs.io/en/latest/index.html"
   ]
  },
  {
   "cell_type": "code",
   "execution_count": null,
   "id": "32193efe-37aa-4c21-882b-f7665e5b2312",
   "metadata": {
    "tags": []
   },
   "outputs": [],
   "source": [
    "import pyinterp.backends.xarray\n",
    "# Module that handles the filling of undefined values.\n",
    "import pyinterp.fill\n",
    "\n",
    "da=ds.SST_L3S.where(ds.mask, np.nan)\n",
    "grid = pyinterp.backends.xarray.Grid2D(da.compute())"
   ]
  },
  {
   "cell_type": "code",
   "execution_count": null,
   "id": "01c4a157-8a8e-49a3-916a-894485d6d763",
   "metadata": {
    "scrolled": true,
    "tags": []
   },
   "outputs": [],
   "source": [
    "%%time\n",
    "filled = pyinterp.fill.loess(grid, nx=30, ny=30)\n",
    "# pyinterp has another method for filling gap\n",
    "# This method takes much more time than 'loess' \n",
    "#has_converged, filled = pyinterp.fill.gauss_seidel(grid)"
   ]
  },
  {
   "cell_type": "code",
   "execution_count": null,
   "id": "de2af183-ca16-43df-920b-47b9ad440b25",
   "metadata": {
    "tags": []
   },
   "outputs": [],
   "source": [
    "fill=da.copy()\n",
    "fill[:,:]=np.transpose(filled)\n",
    "ds[\"SST_L3S_filled_pyinterp\"]=fill\n",
    "ds[\"SST_L3S_filled_pyinterp\"].where(ds.mask, -100).plot()"
   ]
  },
  {
   "cell_type": "markdown",
   "id": "40b426fe-1549-4615-b38c-f22326c54eaa",
   "metadata": {},
   "source": [
    "We can verify for example how much np.nan still remains"
   ]
  },
  {
   "cell_type": "code",
   "execution_count": null,
   "id": "429ef2d3-0dd7-4070-84d1-8691dd04a5b6",
   "metadata": {
    "tags": []
   },
   "outputs": [],
   "source": [
    "np.isnan(ds[\"SST_L3S_filled_pyinterp\"].where(ds.mask, -100)).sum().item()"
   ]
  },
  {
   "cell_type": "markdown",
   "id": "5d04efb5-3f6b-4604-9bfd-cda2d2f2d841",
   "metadata": {
    "editable": true,
    "slideshow": {
     "slide_type": ""
    },
    "tags": []
   },
   "source": [
    "## Convert Data in HEALPix\n",
    "\n",
    "The above gap-filling method does not take into account that our subject is a sphere. Because we work with full globe data, we need to treat the grid system that conveys the shape of the sphere. To do that, we use one of the Discrete Global Grid Systems (DGGS), HEALPix.\n",
    "\n",
    "HEALPix stands for Hierarchical Equal Area isoLatitude Pixelation of a sphere. This pixelation produces a subdivision of a spherical surface in which each pixel covers the same surface area as every other pixel. \n",
    "![HEALPix](https://healpix.sourceforge.io/images/gorski_f1.jpg)\n",
    "\n",
    "See [https://healpix.sourceforge.io](https://healpix.sourceforge.io) and/or [the HEALPix Primer](https://healpix.jpl.nasa.gov/pdf/intro.pdf) for more information.\n",
    "\n",
    "The [healpy tutorial](https://healpy.readthedocs.io/en/latest/tutorial.html#NSIDE-and-ordering) is also a very good starting point to understand more about HEALPix.\n",
    "\n",
    "### Resolution\n",
    "The resolution of the grid is expressed by the parameter `Nside`, which defines the number of divisions along the side of a base-resolution pixel that is needed to reach a desired high-resolution partition.\n",
    "\n",
    "### Ordering Systems\n",
    "\n",
    "HEALPix supports two pixel ordering systems: `nested` and `ring`.\n",
    "\n",
    "Detailed explanations of the two pixel ordering systems can be found at [https://healpix.jpl.nasa.gov/html/intronode4.htm](https://healpix.jpl.nasa.gov/html/intronode4.htm).\n",
    "\n",
    "In our example we use `nested` "
   ]
  },
  {
   "cell_type": "code",
   "execution_count": null,
   "id": "cfe593b6-56a7-481d-b571-7cc4fbadbbd1",
   "metadata": {
    "tags": []
   },
   "outputs": [],
   "source": [
    "ds = xr.open_dataset(\"SST.zarr\", engine=\"zarr\").isel(time=0).chunk(500).persist()\n",
    "ds"
   ]
  },
  {
   "cell_type": "markdown",
   "id": "9cb52dba-89ee-440a-a61d-6c6cdf33f4d5",
   "metadata": {
    "editable": true,
    "slideshow": {
     "slide_type": ""
    },
    "tags": []
   },
   "source": [
    "### Define the HEALPix resolution"
   ]
  },
  {
   "cell_type": "code",
   "execution_count": null,
   "id": "d1b75cba-1fc2-4b68-b74d-880b4b4a084f",
   "metadata": {
    "editable": true,
    "slideshow": {
     "slide_type": ""
    },
    "tags": []
   },
   "outputs": [],
   "source": [
    "nside = 128\n",
    "nest = True\n",
    "full_cell_ids = range(0, 12*nside**2)"
   ]
  },
  {
   "cell_type": "markdown",
   "id": "a8f36087-8a1b-4939-9d63-dbc5eb0c560a",
   "metadata": {
    "editable": true,
    "slideshow": {
     "slide_type": ""
    },
    "tags": []
   },
   "source": [
    "### Compute HEALPix Cell id"
   ]
  },
  {
   "cell_type": "code",
   "execution_count": null,
   "id": "f5ecb9c1-c521-46b6-b13e-49cd0c0f03d0",
   "metadata": {
    "editable": true,
    "slideshow": {
     "slide_type": ""
    },
    "tags": []
   },
   "outputs": [],
   "source": [
    "ds_healpix = (ds\n",
    "    .stack(id=(\"latitude\", \"longitude\"))\n",
    "    .chunk(\"auto\")\n",
    "   ).persist()\n",
    "ds_healpix[\"latitude_cp\"] = ds_healpix[\"latitude\"]\n",
    "ds_healpix[\"longitude_cp\"] = ds_healpix[\"longitude\"]\n",
    "th = (90.0 - ds_healpix['latitude'])/180.0*np.pi\n",
    "ph = 2*np.pi - (ds_healpix['longitude'])/180.0*np.pi\n",
    "cell_ids = hp.ang2pix(nside,th.data,ph.data,nest=nest)\n",
    "ds_healpix = ds_healpix.compute()\n",
    "ds_healpix"
   ]
  },
  {
   "cell_type": "markdown",
   "id": "6dd7b9cb-000e-4433-830a-99495608968b",
   "metadata": {
    "editable": true,
    "slideshow": {
     "slide_type": ""
    },
    "tags": []
   },
   "source": [
    "### Create Land-Sea mask with HEALPix cell ids\n",
    "- group by the mask, and take mean, including np.nan values, to keep the trace of all missing values. (skipna=False )"
   ]
  },
  {
   "cell_type": "code",
   "execution_count": null,
   "id": "3679fd75-cf98-4c63-bdd0-622db9381f50",
   "metadata": {
    "editable": true,
    "slideshow": {
     "slide_type": ""
    },
    "tags": []
   },
   "outputs": [],
   "source": [
    "%%time \n",
    "ds_mask = ds_healpix[[\"mask\"]].assign_coords({\n",
    "        \"cell_ids\":([\"id\"], cell_ids)}).sortby(\"cell_ids\"\n",
    "                                  ).groupby('cell_ids'\n",
    "                                           ).mean(skipna=False, keep_attrs=True).compute()\n",
    "ds_mask"
   ]
  },
  {
   "cell_type": "markdown",
   "id": "45b908ba-5c56-469c-a750-209df62bde2a",
   "metadata": {},
   "source": [
    "### Create SST L3 with latitude and longitude coordinate and HEALPix cell id\n",
    "- group by the mask, and take mean, skipping np.nan values, so that temperature data does not get affected. (skipna=True )"
   ]
  },
  {
   "cell_type": "code",
   "execution_count": null,
   "id": "9d895719-805f-469b-b858-20f6d73306ed",
   "metadata": {
    "editable": true,
    "slideshow": {
     "slide_type": ""
    },
    "tags": []
   },
   "outputs": [],
   "source": [
    "%%time \n",
    "ds_healpix = ds_healpix[[\"SST_L3S\", \"SST_L4\",\n",
    "                         \"latitude_cp\", \"longitude_cp\", \n",
    "                      ]].assign_coords({\n",
    "        \"cell_ids\":([\"id\"], cell_ids)}).sortby(\"cell_ids\"\n",
    "                                  ).groupby(\"cell_ids\"\n",
    "                                           ).mean(skipna=True, keep_attrs=True)"
   ]
  },
  {
   "cell_type": "code",
   "execution_count": null,
   "id": "9d73d544-825e-4286-b5e4-dea120b7e331",
   "metadata": {
    "editable": true,
    "slideshow": {
     "slide_type": ""
    },
    "tags": []
   },
   "outputs": [],
   "source": [
    "ds_healpix[\"ocean\"] = xr.where(ds_mask[\"mask\"]==1, True, False)\n",
    "ds_healpix['clouds'] = ds_healpix.SST_L3S.isnull()\n",
    "\n",
    "# check if there is any forgotten latitude or longitude, if zero, it is ok.\n",
    "print(ds_healpix.latitude_cp.isnull().sum().data, ds_healpix.longitude_cp.isnull().sum().data)\n",
    "print(ds_healpix.ocean.sum().compute().data, ds_healpix.clouds.sum().compute().data)\n",
    "\n",
    "ds_healpix"
   ]
  },
  {
   "cell_type": "markdown",
   "id": "f7e15821-67f5-4bd8-87a0-8f5d8849cc6d",
   "metadata": {},
   "source": [
    "### Re-index and use xdggs to get and Xarray with DGGS grid and coordinate"
   ]
  },
  {
   "cell_type": "code",
   "execution_count": null,
   "id": "63115820-29db-49c3-a409-7d3175dfde99",
   "metadata": {
    "tags": []
   },
   "outputs": [],
   "source": [
    "%%time\n",
    "ds_healpix = ds_healpix.reindex(cell_ids=full_cell_ids, fill_value=False)\n",
    "ds_healpix = ds_healpix.persist()\n",
    "\n",
    "ds_healpix.cell_ids.attrs = {\n",
    "    \"grid_name\": \"healpix\",\n",
    "    \"nside\": nside,\n",
    "    \"nest\": nest,\n",
    "}\n",
    "\n",
    "ds_healpix = ds_healpix.reset_index('cell_ids').set_xindex(\"cell_ids\", xdggs.DGGSIndex).dggs.assign_latlon_coords()\n",
    "\n",
    "print(ds_healpix.latitude_cp.isnull().sum().data,ds_healpix.longitude_cp.isnull().sum().data)\n",
    "print(ds_healpix.ocean.sum().compute().data, ds_healpix.clouds.sum().compute().data)\n",
    "ds_healpix"
   ]
  },
  {
   "cell_type": "markdown",
   "id": "b38f072f-7b89-4296-b90d-7b04ef90fecf",
   "metadata": {},
   "source": [
    "#### Set chunks\n",
    "\n",
    "`chunk()` re-set the chunks from i'ts original chunk form we loaded from the zarr file.  "
   ]
  },
  {
   "cell_type": "code",
   "execution_count": null,
   "id": "e37d1176-103c-42eb-87f5-7869a45011a7",
   "metadata": {
    "scrolled": true,
    "tags": []
   },
   "outputs": [],
   "source": [
    "ds = ds.chunk(1000).persist()\n",
    "ds"
   ]
  },
  {
   "cell_type": "markdown",
   "id": "efbd6aa6-f81a-4be7-93e0-2e976b56ced4",
   "metadata": {},
   "source": [
    "### Save HEALPix SST L3S and SST L4 in local zarr "
   ]
  },
  {
   "cell_type": "code",
   "execution_count": null,
   "id": "77cb0bfd-13ba-465c-9b34-216b3d0cdb5a",
   "metadata": {
    "tags": []
   },
   "outputs": [],
   "source": [
    "ds_healpix.to_zarr('healpix.zarr', mode='w')"
   ]
  },
  {
   "cell_type": "markdown",
   "id": "e95d6884-222e-4441-8006-643e205056b2",
   "metadata": {},
   "source": [
    "### Load HEALPix Zarr with SST L3S and SST L4 from local Zarr file"
   ]
  },
  {
   "cell_type": "code",
   "execution_count": null,
   "id": "a5d4585e-a57c-4454-a99f-7d231accda22",
   "metadata": {
    "tags": []
   },
   "outputs": [],
   "source": [
    "ds_healpix = xr.open_dataset('healpix.zarr', engine=\"zarr\")\n",
    "ds_healpix"
   ]
  },
  {
   "cell_type": "markdown",
   "id": "0acb8d5c-8393-429c-970d-8a15bace2366",
   "metadata": {},
   "source": [
    "### Visualize data using healpy"
   ]
  },
  {
   "cell_type": "code",
   "execution_count": null,
   "id": "4431a0b1-b00f-4eab-83cb-2265feb11453",
   "metadata": {
    "tags": []
   },
   "outputs": [],
   "source": [
    "hp.cartview(ds_healpix.ocean.compute().data, cmap='binary', nest=True)"
   ]
  },
  {
   "cell_type": "code",
   "execution_count": null,
   "id": "e67e8d61-c898-463e-9610-a863a6e746cc",
   "metadata": {
    "tags": []
   },
   "outputs": [],
   "source": [
    "hp.cartview(ds_healpix.clouds.compute().data, cmap='binary', nest=True)"
   ]
  },
  {
   "cell_type": "code",
   "execution_count": null,
   "id": "deef4ba2-6968-4dd0-8075-a60e9141bab8",
   "metadata": {
    "tags": []
   },
   "outputs": [],
   "source": [
    "hp.cartview(ds_healpix.SST_L3S.where(ds_healpix.ocean,hp.UNSEEN).compute().data,\n",
    "            cmap='coolwarm',\n",
    "            nest=True,\n",
    "            min=0, max=30)"
   ]
  },
  {
   "cell_type": "markdown",
   "id": "b9160dd0-9a78-45fe-bad9-3f0e5de1d5ab",
   "metadata": {},
   "source": [
    "## Fill the Clouds Using Specificity of Healpy\n",
    "\n",
    "Healpy is designed to represent the sphere using spherical harmonics functions. We will use linear regression against spherical harmonics functions to fill the gaps caused by clouds."
   ]
  },
  {
   "cell_type": "markdown",
   "id": "fbf2393d-b5cd-4d29-8024-522c92507aaa",
   "metadata": {},
   "source": [
    "### How Do Spherical Harmonics Look?\n",
    "\n",
    "We will construct a function \\( F \\), which is defined as follows.\n",
    "\n",
    "$\n",
    "F = [\\mathbb{R} {A_{00}},R{A_{10}}, R{A_{11}},\n",
    " I{A_{11}},..,R {A_{l_{max}m_{max}}} I {A_{l_{max}m_{max}}} ]\n",
    "$"
   ]
  },
  {
   "cell_type": "code",
   "execution_count": null,
   "id": "b1c8a203-2f9e-4d7c-bb86-8f2e36eb092c",
   "metadata": {},
   "outputs": [],
   "source": [
    "lmax=15\n",
    "nside=128\n",
    "#compute Alm to fit\n",
    "#get the l and m availble for l<=lmax\n",
    "l,m=hp.Alm.getlm(lmax=lmax)\n",
    "\n",
    "#count the number of alm map (1 for m=0 and 2 for m>0)\n",
    "n_alm=(m==0).sum()+2*(m>0).sum()\n",
    "function=np.zeros([n_alm,12*nside**2])\n",
    "\n",
    "alm=np.zeros([l.shape[0]],dtype='complex')\n",
    "\n",
    "i=0\n",
    "\n",
    "#array to store the l and m values of the A_lm\n",
    "l_func=np.zeros(n_alm,dtype='int')\n",
    "m_func=np.zeros(n_alm,dtype='int')\n",
    "is_real_func=np.zeros(n_alm,dtype='int')\n",
    "\n",
    "for k in range(l.shape[0]):\n",
    "    alm[k]=1.0\n",
    "    function[i]=hp.reorder(hp.alm2map(alm,nside),r2n=True)\n",
    "    l_func[i]=l[k]\n",
    "    m_func[i]=m[k]\n",
    "    is_real_func[i]=1\n",
    "    i+=1\n",
    "    if m[k]>0:\n",
    "        alm[k]=complex(0,1)\n",
    "        function[i]=hp.reorder(hp.alm2map(alm,nside),r2n=True)\n",
    "        l_func[i]=l[k]\n",
    "        m_func[i]=m[k]\n",
    "        is_real_func[i]=0\n",
    "        i+=1\n",
    "    alm[k]=0.0"
   ]
  },
  {
   "cell_type": "code",
   "execution_count": null,
   "id": "be6cb1e8-86de-4d8c-877d-b158ec5b0773",
   "metadata": {
    "tags": []
   },
   "outputs": [],
   "source": [
    "lm=3\n",
    "plt.figure(figsize=(12,5))\n",
    "for k in range(l_func.shape[0]):\n",
    "    pos=1+l_func[k]*(2*lm+1)+2*(is_real_func[k]-0.5)*m_func[k]-1+(lm+1)\n",
    "    if is_real_func[k]==1:\n",
    "        title='$\\mathbb{R}(A_{\\ell=%d,m=%d})$'%(l_func[k],m_func[k])\n",
    "    else:\n",
    "        title='$\\mathbb{I}(A_{\\ell=%d,m=%d})$'%(l_func[k],m_func[k])\n",
    "    if l_func[k]<=lm:\n",
    "        hp.mollview(function[k],nest=True,hold=False,sub=(lm+1,2*lm+1,pos)\n",
    "                    ,title=title,cbar=False,cmap='coolwarm')"
   ]
  },
  {
   "cell_type": "markdown",
   "id": "7e869d94-5bf2-4f60-94c6-2caf799240bd",
   "metadata": {},
   "source": [
    "### Let's Fit!\n",
    "\n",
    "Let's fit the existing values to the spherical harmonics functions.\n",
    "\n",
    "To do that, we will use Healpy's Alm function. Lmax is the order of the spherical harmonics function. In this example, we use an order of lmax=15.\n",
    "\n",
    "First, we extract the values where it is ocean, but not masked as clouds.  "
   ]
  },
  {
   "cell_type": "code",
   "execution_count": null,
   "id": "feb34b0c-da60-4a04-9c0e-0efc11ed9699",
   "metadata": {},
   "outputs": [],
   "source": [
    "sst_to_fit = ds_healpix.SST_L3S.where(\n",
    "    ds_healpix.ocean & ~(ds_healpix.clouds)).dropna(dim='cell_ids')\n",
    "sst_l4_to_fit = ds_healpix.SST_L4.where(\n",
    "    ds_healpix.ocean ).dropna(dim='cell_ids')"
   ]
  },
  {
   "cell_type": "markdown",
   "id": "65d0a199-6a7e-4253-ad16-c775db41cbba",
   "metadata": {},
   "source": [
    "### Compute the A_lm fit on the known SST\n",
    "\n",
    "We will use chi2 method to fit the alm values using the function which we have constracted inj the last step.  \n",
    "The concept is to approximate the SST values utilizing a spherical harmonic basis from the known data to populate mask one.\n",
    "\n"
   ]
  },
  {
   "cell_type": "markdown",
   "id": "44da70fd-1a73-4b37-a348-f9f89b8a0929",
   "metadata": {},
   "source": [
    "\n",
    "$\n",
    "M= F^T.F \\\\\n",
    "$\n",
    "$\n",
    "R=M^{-1} F^T . data\n",
    "$\n"
   ]
  },
  {
   "cell_type": "code",
   "execution_count": null,
   "id": "0ba520ce-ef53-461e-bd72-d42dd461a6d2",
   "metadata": {},
   "outputs": [],
   "source": [
    "mat_l3=function[:,sst_to_fit.cell_ids]@function[:,sst_to_fit.cell_ids].T\n",
    "vec_l3=function[:,sst_to_fit.cell_ids]@sst_to_fit.data\n",
    "mat_l4=function[:,sst_l4_to_fit.cell_ids]@function[:,sst_l4_to_fit.cell_ids].T\n",
    "vec_l4=function[:,sst_l4_to_fit.cell_ids]@sst_l4_to_fit.data\n",
    "harm_l3=np.linalg.pinv(mat_l3)@vec_l3\n",
    "harm_l4=np.linalg.pinv(mat_l4)@vec_l4\n",
    "print(\"Number of functions \",harm_l3.shape)\n",
    "# compute the fitted projected data\n",
    "fit_data_l3=(harm_l3.reshape(1,harm_l3.shape[0])@function).flatten()\n",
    "fit_data_l4=(harm_l4.reshape(1,harm_l4.shape[0])@function).flatten()"
   ]
  },
  {
   "cell_type": "code",
   "execution_count": null,
   "id": "61ce553b-bd9f-4352-be22-1a42cb439d67",
   "metadata": {},
   "outputs": [],
   "source": [
    "\n",
    "hp.cartview(fit_data_l3/ds_healpix.ocean.data,cmap='coolwarm',nest=True,title='Fitted L3S model')\n",
    "hp.cartview(fit_data_l4/ds_healpix.ocean.data,cmap='coolwarm',nest=True,title='Fitted L4 model')"
   ]
  },
  {
   "cell_type": "code",
   "execution_count": null,
   "id": "448c5cec-2ad2-4ea4-a90f-c95d1b3d7726",
   "metadata": {},
   "outputs": [],
   "source": [
    "filled_data_l3=ds_healpix.SST_L3S.where(ds_healpix.ocean,hp.UNSEEN).compute().data\n",
    "filled_data_l4=ds_healpix.SST_L4.data\n",
    "filled_data_l3[ds_healpix.clouds]=fit_data_l3[ds_healpix.clouds]\n",
    "filled_data_l3[ds_healpix.ocean==False]=fit_data_l3[ds_healpix.ocean==False]\n",
    "filled_data_l4[ds_healpix.ocean==False]=fit_data_l4[ds_healpix.ocean==False]\n",
    "hp.cartview(filled_data_l3/ds_healpix.ocean.data,cmap='coolwarm',nest=True,title='Filled data')\n",
    "\n",
    "#Put the computed values in the  SST_L3S and save the result in a Data Aray SST_polyfit_filled\n",
    "ds_healpix['SST_polyfit_filled'] = ds_healpix['SST_L3S'].copy()\n",
    "ds_healpix['SST_polyfit_filled'].loc[{\"cell_ids\": ds_healpix['SST_L3S'].cell_ids}] = filled_data_l3\n",
    "ds_healpix['SST_L4'].loc[{\"cell_ids\": ds_healpix['SST_L4'].cell_ids}] = filled_data_l4"
   ]
  },
  {
   "cell_type": "markdown",
   "id": "cd2631d9",
   "metadata": {},
   "source": [
    "### Plot the fitted results"
   ]
  },
  {
   "cell_type": "code",
   "execution_count": null,
   "id": "6c28f3d1-97ec-4e74-86d4-8796ab193d2d",
   "metadata": {
    "scrolled": true
   },
   "outputs": [],
   "source": [
    "rot=[120,-30]\n",
    "plt.figure(figsize=(16,10))\n",
    "hp.cartview(ds_healpix.SST_L3S.where(ds_healpix.ocean, hp.UNSEEN).compute().data, \n",
    "            title=\"SST L3S - 01/06/2024\", nest=True, min=-3, max=30, cmap='cmc.vik',\n",
    "            hold=False, sub=(2,2,1))\n",
    "hp.cartview(ds_healpix.SST_polyfit_filled.where(ds_healpix.ocean,hp.UNSEEN).compute().data, \n",
    "            title=\"Polyfit -  01/06/2024\", nest=True, min=-3, max=30, cmap='cmc.vik', hold=False,sub=(2,2,3))\n",
    "hp.gnomview(ds_healpix.SST_L3S.where(ds_healpix.ocean,hp.UNSEEN).compute().data,\n",
    "            nest=True, min=10,max=30, cmap='cmc.vik',rot=rot,reso=15, notext=True,\n",
    "            title='01/06/2024', hold=False, sub=(2,2,2), xsize=256)\n",
    "hp.gnomview(ds_healpix.SST_polyfit_filled.where(ds_healpix.ocean,hp.UNSEEN).compute().data,\n",
    "            nest=True, min=10,max=30, cmap='cmc.vik', rot=rot, reso=15, notext=True,\n",
    "            title='Synth. 01/06/2024', hold=False, sub=(2,2,4), xsize=256)"
   ]
  },
  {
   "cell_type": "markdown",
   "id": "fb5e6ba1-9aff-4c05-a584-2da9ef79c2b2",
   "metadata": {},
   "source": [
    "## What is scattering transform?\n",
    "\n",
    "<style>\n",
    ".responsive-wrap iframe{ max-width: 100%;}\n",
    "</style>\n",
    "<div class=\"responsive-wrap\">\n",
    "<!-- this is the embed code provided by Google -->\n",
    "  <iframe src=\"https://docs.google.com/presentation/d/1_cLrYiDFJxouuquLi4K1WD-qWw_deq5M4VK64X68aok/embed?start=false&loop=false&delayms=3000\" frameborder=\"0\" width=\"960\" height=\"569\" allowfullscreen=\"true\" mozallowfullscreen=\"true\" webkitallowfullscreen=\"true\"></iframe>\n",
    "<!-- Google embed ends -->\n",
    "</div>\n",
    "\t\n"
   ]
  },
  {
   "cell_type": "markdown",
   "id": "9b7b21dd-daea-4a83-9792-e8956d7624ba",
   "metadata": {},
   "source": [
    "## Apply scattering transform\n",
    "\n",
    "#### learning process to fill the data.  \n",
    "\n",
    "In this process, we will learn the process from the observed SST.  We need to fill the value with first naive 'guess', thus we start the learning process from ds_healpix.SST_polyfit_filled\n",
    "- learn the property from observed SST (ocean area but without clouds) \n",
    "  ds_healpix.SST_polyfit_filled.where((ds_healpix.ocean & ~(ds_healpix.clouds)))\n",
    "- compute the gradiant for the clouds area\n",
    "  ds_healpix.SST_polyfit_filled.where( ~(ds_healpix.clouds)))\n",
    "- We apply scattering transform for all oceanic area\n",
    "  \n",
    "  "
   ]
  },
  {
   "cell_type": "code",
   "execution_count": null,
   "id": "266afde5-19e0-4688-87ba-8c880c0996d7",
   "metadata": {},
   "outputs": [],
   "source": [
    "plt.figure(figsize=(16,10))\n",
    "hp.cartview(xr.where( (ds_healpix.ocean & ~ds_healpix.clouds),1,0).compute().data,\n",
    "            cmap='binary', nest=True, title=\"observed (value=1)\\n (only ocean, without clouds and lands)\",\n",
    "            sub=(2,2,1))\n",
    "hp.cartview(xr.where( (ds_healpix.clouds),1,0).compute().data, cmap='binary', nest=True,\n",
    "            title='clouds (value=1)\\n',sub=(2,2,2))\n",
    "hp.cartview(xr.where( (ds_healpix.ocean),1,0).compute().data, cmap='binary', nest=True,\n",
    "            title='all ocean, including clouds', sub=(2,2,3))\n",
    "hp.cartview(ds_healpix.SST_polyfit_filled.where(ds_healpix.ocean,hp.UNSEEN).compute().data, cmap='cmc.vik', nest=True,\n",
    "            title='observed SST (Celcius), polyfitted',  sub=(2,2,4))"
   ]
  },
  {
   "cell_type": "markdown",
   "id": "03383280-2750-4d68-88ef-d38803d25378",
   "metadata": {},
   "source": [
    "## Lets use foscat software ane make use of scattering transform\n",
    "\n",
    "First, we set up foscat to fill missing data"
   ]
  },
  {
   "cell_type": "code",
   "execution_count": null,
   "id": "ca7ec6b3-7e40-4a28-b8a4-8d0a9e7a7fb5",
   "metadata": {},
   "outputs": [],
   "source": [
    "scat = sc.funct(silent=True, \n",
    "                JmaxDelta=0)"
   ]
  },
  {
   "cell_type": "markdown",
   "id": "f5fbc138-b0ca-4364-984f-0b3cb6c8f6cb",
   "metadata": {},
   "source": [
    "### Prepare data and apply foscat on cloud data only"
   ]
  },
  {
   "cell_type": "code",
   "execution_count": null,
   "id": "be7909e0-c055-43d6-9e1e-60ea8b964fed",
   "metadata": {},
   "outputs": [],
   "source": [
    "# Compute localized mask\n",
    "\n",
    "nside_mask=1\n",
    "local_mask=np.zeros([12*nside_mask**2,12*nside**2])\n",
    "for k in range(12*nside_mask**2):\n",
    "    l_data=hp.smoothing((np.arange(12*nside**2)*(nside_mask**2/nside**2)).astype('int')==k,60/180.*np.pi,nest=True)\n",
    "    l_data/=l_data.max()\n",
    "    hp.cartview(l_data,nest=True,hold=False,sub=(4,4,1+k),title='Mask #%d'%k)\n",
    "    local_mask[k]=l_data"
   ]
  },
  {
   "cell_type": "code",
   "execution_count": null,
   "id": "5d24344e-8114-4b6f-838f-1879a1fd8c9f",
   "metadata": {},
   "outputs": [],
   "source": [
    "#our data to apply foscat\n",
    "data = ds_healpix.SST_polyfit_filled.data.copy()\n",
    "print(data.shape)\n",
    "\n",
    "# here we mask non ocean point as 0\n",
    "# cloud is 0, only observed points are 1. \n",
    "#mask_observe_only = (ds_healpix.ocean & ~(ds_healpix.clouds)).data.reshape(1, ds_healpix.cell_ids.size)\n",
    "mask_observe_only = (ds_healpix.ocean).data.reshape(1, ds_healpix.cell_ids.size)\n",
    "\n",
    "ref = scat.eval(ds_healpix.SST_L4.data, mask=mask_observe_only*local_mask)"
   ]
  },
  {
   "cell_type": "code",
   "execution_count": null,
   "id": "04a93b1b-4ca7-4203-9c71-c7a3784fbf93",
   "metadata": {},
   "outputs": [],
   "source": [
    "def The_loss_function(x,scat_operator,args,return_all=False):\n",
    "\n",
    "    ref = args[0]\n",
    "    mask = args[1]\n",
    "\n",
    "    learn=scat_operator.eval(x,mask=mask)\n",
    "\n",
    "    loss=scat_operator.reduce_mean(scat_operator.square((ref-learn)/ref))\n",
    "\n",
    "    return(loss)\n",
    "# all the cloud is one. \n",
    "#\n",
    "grd_mask=data[0]==hp.UNSEEN, \n",
    "#mask it as 1.0 if it is cloud. \n",
    "# here we mask non ocean point as 0\n",
    "# all ocean points are 1. \n",
    "mask_all_ocean=(ds_healpix.ocean).data.reshape(1,ds_healpix.cell_ids.size)\n",
    "\n",
    "print(mask_all_ocean.shape)\n",
    "\n",
    "loss=synthe.Loss(The_loss_function,scat,ref,\n",
    "                 scat.backend.constant(scat.backend.bk_cast(mask_all_ocean*local_mask)))\n",
    "\n",
    "sy = synthe.Synthesis([loss])"
   ]
  },
  {
   "cell_type": "markdown",
   "id": "02c5832d-301a-4817-a181-7cdb56ce0e36",
   "metadata": {},
   "source": [
    "### RUN ON SYNTHESIS\n",
    "\n",
    "Here we set cloud as 1, because we want to compute gradient at clouds\n",
    "and all the other points are 0\n",
    "\n",
    "Before running your calculation, you can verify the type of GPU you have with follwoing command\n"
   ]
  },
  {
   "cell_type": "code",
   "execution_count": null,
   "id": "ac5fac21-1840-4fc7-aa3d-394d3d81e2f0",
   "metadata": {},
   "outputs": [],
   "source": [
    "!nvidia-smi\n"
   ]
  },
  {
   "cell_type": "code",
   "execution_count": null,
   "id": "1583d9fc-2f03-4f77-8572-cdd1798427fa",
   "metadata": {},
   "outputs": [],
   "source": [
    "mask_clouds_only=((ds_healpix.clouds)).data.reshape(1,ds_healpix.cell_ids.size)\n",
    "print(mask_clouds_only.shape)"
   ]
  },
  {
   "cell_type": "code",
   "execution_count": null,
   "id": "41745d0d-8e3f-41fd-a0aa-5cac8fb10a95",
   "metadata": {},
   "outputs": [],
   "source": [
    "\n",
    "omap=sy.run(scat.backend.bk_cast(data),\n",
    "            EVAL_FREQUENCY=100,\n",
    "            grd_mask=mask_clouds_only, # only the gradient of masked data is computed\n",
    "            NUM_EPOCHS = 300).numpy()"
   ]
  },
  {
   "cell_type": "code",
   "execution_count": null,
   "id": "4103aede-46a6-4194-b7f5-511c33f085f6",
   "metadata": {},
   "outputs": [],
   "source": [
    "#Put the computed values in the  SST_L3S and save the result in a Data Aray SST_foscat_filled\n",
    "ds_healpix['SST_foscat_filled'] = ds_healpix['SST_L3S'].copy()\n",
    "ds_healpix['SST_foscat_filled'].loc[:] = omap"
   ]
  },
  {
   "cell_type": "markdown",
   "id": "bd416c72",
   "metadata": {},
   "source": [
    "# Plot the results"
   ]
  },
  {
   "cell_type": "markdown",
   "id": "7f8808b5-ac29-409b-ae4c-d621945294fd",
   "metadata": {},
   "source": [
    "## Comparison with L4 product\n",
    "\n",
    "We compare SST_polyfit_filled (red) and SST_foscat_filled (blue)"
   ]
  },
  {
   "cell_type": "code",
   "execution_count": null,
   "id": "11f59d0e-144c-4b1e-998d-4a81bfccd8c8",
   "metadata": {},
   "outputs": [],
   "source": [
    "hist_range=[-5,5]\n",
    "plt.figure(figsize=(10,4))\n",
    "plt.subplot(1,2,1)\n",
    "hy,hx=np.histogram((ds_healpix.SST_L4 - ds_healpix.SST_polyfit_filled).where(ds_healpix.ocean).data,range=hist_range,bins=100)\n",
    "hy2,hx=np.histogram((ds_healpix.SST_L4 - ds_healpix.SST_foscat_filled).where(ds_healpix.ocean).data,range=hist_range,bins=100)\n",
    "plt.plot((hx[1:]+hx[:-1])/2,100*hy/hy.max(),color='b',label=r'$A_{lm}$ Filled data')\n",
    "plt.plot((hx[1:]+hx[:-1])/2,100*hy2/hy2.max(),color='r',label=r'FOSCAT Filled data')\n",
    "plt.legend(frameon=False,loc=2)\n",
    "plt.ylim(0,120)\n",
    "plt.ylabel('Histogram for all ocean pixels [percent]')\n",
    "plt.xlabel('$\\Delta t$ with L4 [degree]')\n",
    "#plt.yscale('log')\n",
    "plt.subplot(1,2,2)\n",
    "hy,hx=np.histogram((ds_healpix.SST_L4 - ds_healpix.SST_polyfit_filled).where(ds_healpix.clouds).data,range=hist_range,bins=100)\n",
    "hy2,hx=np.histogram((ds_healpix.SST_L4 - ds_healpix.SST_foscat_filled).where(ds_healpix.clouds).data,range=hist_range,bins=100)\n",
    "plt.plot((hx[1:]+hx[:-1])/2,100*hy/hy.max(),color='b',label=r'$A_{lm}$ Filled data')\n",
    "plt.plot((hx[1:]+hx[:-1])/2,100*hy2/hy2.max(),color='r',label=r'FOSCAT Filled data')\n",
    "plt.legend(frameon=False,loc=2)\n",
    "plt.ylabel('')\n",
    "plt.xlabel('$\\Delta t$ with L4 [degree]')\n",
    "plt.ylabel('Histogram for clouds [percent]')\n",
    "plt.ylim(0,120)\n",
    "#plt.yscale('log')"
   ]
  },
  {
   "cell_type": "code",
   "execution_count": null,
   "id": "046dd970-5f36-4c0a-ac3f-dec909a3524f",
   "metadata": {
    "editable": true,
    "slideshow": {
     "slide_type": ""
    },
    "tags": []
   },
   "outputs": [],
   "source": [
    "plt.figure(figsize=(16,10))\n",
    "hp.cartview(\n",
    "    (abs(ds_healpix.SST_L4 - ds_healpix.SST_foscat_filled)).where(ds_healpix.ocean,hp.UNSEEN).compute().data,\n",
    "             nest=True,cmap='cmc.cork',min=-5,max=5,sub=(2,1,1),title='diff foscat L4')\n",
    "hp.cartview(\n",
    "    (abs(ds_healpix.SST_L4 - ds_healpix.SST_polyfit_filled)).where(ds_healpix.ocean,hp.UNSEEN).compute().data,\n",
    "             nest=True,cmap='cmc.cork',min=-5,max=5,sub=(2,1,2),title='diff $A_{lm}$ L4')\n"
   ]
  },
  {
   "cell_type": "code",
   "execution_count": null,
   "id": "600339a3-782a-4950-8925-b3f406ad9b42",
   "metadata": {},
   "outputs": [],
   "source": [
    "\n",
    "plt.figure(figsize=(10, 6))\n",
    "hp.cartview(ds_healpix.SST_polyfit_filled.where(ds_healpix.ocean,hp.UNSEEN).compute().data, nest=True, min=-3, max=30, cmap='cmc.vik',\n",
    "            title='SST gaps filled with $A_{lm}$', hold=False, sub=(2,2,1))\n",
    "hp.cartview(ds_healpix.SST_foscat_filled.where(ds_healpix.ocean,hp.UNSEEN).compute().data, nest=True, min=-3, max=30, cmap='cmc.vik',\n",
    "            title='SST gaps filled with FOSCAT', hold=False, sub=(2,2,2))\n",
    "hp.cartview(ds_healpix.SST_L4.where(ds_healpix.ocean,hp.UNSEEN).compute().data, nest=True, min=-3, max=30,\n",
    "            cmap='cmc.vik', title='L4S', hold=False, sub=(2,2,3))"
   ]
  },
  {
   "cell_type": "code",
   "execution_count": null,
   "id": "ca936333-f14d-4ea6-a7c9-6312a4c9c7f5",
   "metadata": {},
   "outputs": [],
   "source": [
    "rot=[130,10]\n",
    "reso=15\n",
    "\n",
    "cmap='cmc.oleron'\n",
    "cmap='coolwarm'\n",
    "plt.figure(figsize=(12, 4))\n",
    "hp.gnomview(ds_healpix.SST_polyfit_filled.where(ds_healpix.ocean,hp.UNSEEN).compute().data, nest=True, min=18, max=30, cmap=cmap, \n",
    "            rot=rot, reso=reso, \n",
    "            notext=True, title='L3S Filled with $A_{lm}$', hold=False, sub=(1,3,1), xsize=256)\n",
    "hp.gnomview(ds_healpix.SST_foscat_filled.where(ds_healpix.ocean,hp.UNSEEN).compute().data, nest=True, min=18, max=30, cmap=cmap, \n",
    "            rot=rot, reso=reso, \n",
    "            notext=True, title='L3S Filled with FOSCAT ',hold=False,sub=(1,3,2), xsize=256)\n",
    "hp.gnomview(ds_healpix.SST_L4.where(ds_healpix.ocean,hp.UNSEEN).compute().data, nest=True, min=18, max=30, \n",
    "            cmap=cmap,rot=rot,reso=reso,notext=True,\n",
    "            title='L4S', hold=False, sub=(1,3,3), xsize=256)\n",
    "\n",
    "plt.figure(figsize=(12, 4))\n",
    "hp.gnomview(ds_healpix.SST_polyfit_filled.where(ds_healpix.ocean,hp.UNSEEN).compute().data-ds_healpix.SST_L4.where(ds_healpix.ocean,hp.UNSEEN).compute().data, \n",
    "            nest=True, min=-1, max=1, cmap=cmap, \n",
    "            rot=rot, reso=reso, \n",
    "            notext=True, title='L3S Filled with $A_{lm}$ - L4S', hold=False, sub=(1,3,1), xsize=256)\n",
    "hp.gnomview(ds_healpix.SST_foscat_filled.where(ds_healpix.ocean,hp.UNSEEN).compute().data-ds_healpix.SST_L4.where(ds_healpix.ocean,hp.UNSEEN).compute().data, \n",
    "            nest=True, min=-1, max=1, cmap=cmap, \n",
    "            rot=rot, reso=reso, \n",
    "            notext=True, title='L3S Filled with FOSCAT  - L4S',hold=False,sub=(1,3,2), xsize=256)\n",
    "hp.gnomview(ds_healpix.SST_L4.where(ds_healpix.ocean,hp.UNSEEN).compute().data-ds_healpix.SST_L4.where(ds_healpix.ocean,hp.UNSEEN).compute().data, \n",
    "            nest=True, min=-1, max=1, \n",
    "            cmap=cmap,rot=rot,reso=reso,notext=True,\n",
    "            title='L4S - L4S', hold=False, sub=(1,3,3), xsize=256)"
   ]
  },
  {
   "cell_type": "code",
   "execution_count": null,
   "id": "a4bd5548-6f6b-4d39-8633-52507a5866fb",
   "metadata": {},
   "outputs": [],
   "source": [
    "def computespectrum(ds_data,map2=None,mask=None):\n",
    "    imask=hp.reorder(mask,n2r=True)\n",
    "    tmp=hp.reorder(ds_data.compute().data,n2r=True)\n",
    "    tmp=(tmp-np.median(tmp[imask==1]))*imask\n",
    "    if map2 is not None:\n",
    "        tmp2=hp.reorder(map2.compute().data,n2r=True)\n",
    "        tmp2=(tmp2-np.median(tmp2[imask==1]))*imask\n",
    "    else:\n",
    "        tmp2=None\n",
    "    return hp.anafast(tmp,map2=tmp2)\n",
    "\n",
    "plt.figure(figsize=(12,4))\n",
    "plt.subplot(1,2,1)\n",
    "plt.title('All oceans')\n",
    "cl0=computespectrum(ds_healpix.SST_L4,mask=mask_all_ocean[0])\n",
    "cl1=computespectrum(ds_healpix.SST_polyfit_filled-ds_healpix.SST_L4,mask=mask_all_ocean[0])\n",
    "cl2=computespectrum(ds_healpix.SST_foscat_filled-ds_healpix.SST_L4,mask=mask_all_ocean[0])\n",
    "plt.plot(cl0,color='black',label='L4S')\n",
    "plt.plot(cl1,color='b',label='L3S Filled with $A_{lm}$ - L4')\n",
    "plt.plot(cl2,color='r',label='L3S Filled with FOSCAT - L4')\n",
    "plt.xscale('log')\n",
    "plt.yscale('log')\n",
    "plt.legend(frameon=False,loc=1)\n",
    "plt.xlabel('Multipole $\\ell$')\n",
    "plt.ylabel('PowerSpectrum [${degree}^{2}$]')\n",
    "plt.subplot(1,2,2)\n",
    "plt.title('Only Clouds')\n",
    "cl0=computespectrum(ds_healpix.SST_L4,mask=mask_clouds_only[0])\n",
    "cl1=computespectrum(ds_healpix.SST_polyfit_filled-ds_healpix.SST_L4,mask=mask_clouds_only[0])\n",
    "cl2=computespectrum(ds_healpix.SST_foscat_filled-ds_healpix.SST_L4,mask=mask_clouds_only[0])\n",
    "plt.plot(cl0,color='black',label='L4S')\n",
    "plt.plot(cl1,color='b',label='L3S Filled with $A_{lm}$ - L4')\n",
    "plt.plot(cl2,color='r',label='L3S Filled with FOSCAT - L4')\n",
    "plt.xscale('log')\n",
    "plt.yscale('log')\n",
    "plt.legend(frameon=False,loc=1)\n",
    "plt.xlabel('Multipole $\\ell$')\n",
    "plt.ylabel('PowerSpectrum [${degree}^{2}$]')"
   ]
  },
  {
   "cell_type": "code",
   "execution_count": null,
   "id": "cb790e8d-a513-4545-ba55-c71d6ba37ba2",
   "metadata": {
    "editable": true,
    "slideshow": {
     "slide_type": ""
    },
    "tags": []
   },
   "outputs": [],
   "source": [
    "client.close()"
   ]
  },
  {
   "cell_type": "markdown",
   "id": "af296553-f13b-410b-81a5-04222c4e9f8a",
   "metadata": {},
   "source": [
    "<div class=\\\"alert alert-success\\\">\n",
    "<i class=\\\"fa-check-circle fa\\\" style=\\\"font-size: 22px;color:#666;\\\"></i> <b>Key Points</b>\n",
    "<br>\n",
    "<ul>\n",
    "   <li>HALPIx</li>\n",
    "   <li>Access, read and get metadata from remote and local zarr</li>\n",
    "   <li>Apply Cross Scattering Transform to fill missing values</li>\n",
    "   </ul>\n",
    "</div>"
   ]
  },
  {
   "cell_type": "markdown",
   "id": "f1475fba-d335-48cc-8566-5370a0169a41",
   "metadata": {},
   "source": [
    " ## References\n",
    "\n",
    "```{bibliography}\n",
    ":style: alpha\n",
    ":filter: topic % \"SST\" and not topic % \"package\"\n",
    ":keyprefix: a-\n",
    "```"
   ]
  },
  {
   "cell_type": "markdown",
   "id": "7bbf3c7c-6684-4edf-99cc-e30016b2d4a8",
   "metadata": {},
   "source": [
    "## Packages citation\n",
    "\n",
    "```{bibliography}\n",
    ":style: alpha\n",
    ":filter: topic % \"SST\" and topic % \"package\"\n",
    ":keyprefix: a-\n",
    "```"
   ]
  },
  {
   "cell_type": "code",
   "execution_count": null,
   "id": "73378fb9-9e28-460b-9e4e-ff4e2e1f35d8",
   "metadata": {},
   "outputs": [],
   "source": []
  }
 ],
 "metadata": {
  "kernelspec": {
   "display_name": "Python 3 (ipykernel)",
   "language": "python",
   "name": "python3"
  },
  "language_info": {
   "codemirror_mode": {
    "name": "ipython",
    "version": 3
   },
   "file_extension": ".py",
   "mimetype": "text/x-python",
   "name": "python",
   "nbconvert_exporter": "python",
   "pygments_lexer": "ipython3",
   "version": "3.11.7"
  }
 },
 "nbformat": 4,
 "nbformat_minor": 5
}
